{
  "cells": [
    {
      "cell_type": "code",
      "execution_count": 28,
      "id": "30ddf2b7",
      "metadata": {
        "id": "30ddf2b7"
      },
      "outputs": [],
      "source": [
        "import sys\n",
        "sys.path.append('./venv/lib/python3.12/site-packages')\n",
        "\"\"\"\n",
        "Чтобы использовать библиотке из movielens_analysis\n",
        "\"\"\"\n",
        "from movielens_analysis import Links, Tags, Movies\n"
      ]
    },
    {
      "cell_type": "code",
      "execution_count": 10,
      "id": "ea5e53c1",
      "metadata": {},
      "outputs": [],
      "source": [
        "from movielens_analysis import Links, Tags, Movies"
      ]
    },
    {
      "cell_type": "markdown",
      "id": "b3b6bc89",
      "metadata": {
        "id": "b3b6bc89"
      },
      "source": [
        "# История о древнем артефакте\n",
        "## Мир далёкого будущего\n",
        "Год 3142. Человечество давно отказалось от ручного программирования — теперь каждый с рождения получает нейроимплант IWM (Integrator With the Machine), позволяющий взаимодействовать с технологиями силой мысли и по средствам него влиять на свои ощущения (создавать словно память или ощущения). Код больше не пишут вручную — его генерируют мгновенно, используя Quantum Neural Synthesizers (QNS).\n",
        "\n",
        "Но однажды в руинах древнего города Old Silicon Valley дедушка Гарриксон и его внук Люкс находят странный артефакт — повреждённый чип памяти с надписью \"Python 3.12 вы..е гр.п...й р...ы\".\n",
        "\n",
        "— \"Деда, что это?\" — спрашивает Люкс.\n",
        "— \"это от наших далёков предков,так они записыали свои самые яркие воспоминания, но этот чип ещё был сделан до колонизации Марса, а те чипы сильно страдали своим качеством записи\"\n",
        "\n",
        "— Давай его запустим и посмотрим, что там!!!\n",
        "— Давай попробуем, вот она старенькая машинка\n"
      ]
    },
    {
      "cell_type": "code",
      "execution_count": 31,
      "id": "4757eeae",
      "metadata": {
        "colab": {
          "base_uri": "https://localhost:8080/"
        },
        "id": "4757eeae",
        "outputId": "b131a2dd-144f-4f4b-94f4-42a58e31d4c8"
      },
      "outputs": [
        {
          "name": "stdout",
          "output_type": "stream",
          "text": [
            "Read the capsule memory\n",
            "Error read \n",
            "Error read \n",
            "Error read \n",
            "Error read \n",
            "Error read \n",
            "Error read \n",
            "Error read \n",
            "Error read \n",
            "Error read \n",
            "Error read \n",
            "\n"
          ]
        }
      ],
      "source": [
        "links = Links()\n",
        "\n",
        "links.print_value(\"Read the capsule memory\")\n",
        "links.print_value(\"Error read \\n\" * 10)"
      ]
    },
    {
      "cell_type": "markdown",
      "id": "1a6c3c12",
      "metadata": {
        "id": "1a6c3c12"
      },
      "source": [
        "— Что случилось, это и есть память? ну и ошибались наши предка\n",
        "\n",
        "— Подожди, внучок, скорее всего он сломася, давай сходим в сервис\n",
        "\n",
        "***\n",
        "— Здравствуйте, сервис Циклус, чем могу помочь?\n",
        "\n",
        "— Нам чип памяти починить, можно?\n",
        "\n",
        "— Ох, это очень частый случай, давайте сюда, хмммм, не может быть!!! это же домарсионный чип эксперименальной версии с дополнением реальности! не верю своим глазам, я не возьму с вас даже денег, если вы разрешите мне посмотреть с вами. Это очень особенные чипы, они в отличие от современных не только посылают картинку на IWM, но по средствам коротких электро импульсов вызывают необходимые эмоции, и ещё останавливают воспоминание, чтобы подумать... Их сняли с производства из-за нестальной работы. И для них нужно специальная машина для запуска, и у нас есть такая, как раз кто-то недавно решил нам её продать, не верю... такое бывает только в фильмах или чудесных историях\n",
        "\n",
        "— Хорошо, давайте так, но если там что-то личное, мы заплатим и уйдём.\n",
        "\n",
        "— Хорошо, дайте мне 20 минут\n",
        "\n",
        "***\n",
        "\n",
        "— Вот ваш чип, отправляемся\n",
        "\n",
        "— Да.\n",
        "\n",
        "— \"Что за дикость?! Здесь нет QNS-разметки! Это… чистый Python! И он работает!\"\n",
        "\n",
        "Так начинается их путешествие в мир древнего программирования…\n"
      ]
    },
    {
      "cell_type": "code",
      "execution_count": 37,
      "id": "5095e5b0",
      "metadata": {
        "colab": {
          "base_uri": "https://localhost:8080/"
        },
        "id": "5095e5b0",
        "outputId": "e841059b-2cf1-4951-cabf-20e5f6304dbc"
      },
      "outputs": [
        {
          "name": "stdout",
          "output_type": "stream",
          "text": [
            "⚡ Активация древнего кода... ⚡\n",
            "🔍 Загрузка данных из эпохи 'Machine Learning'...\n"
          ]
        }
      ],
      "source": [
        "# %%timeit #с двумя применяет прогон ко всем\n",
        "print(\"⚡ Активация древнего кода... ⚡\")\n",
        "print(\"🔍 Загрузка данных из эпохи 'Machine Learning'...\")\n",
        "success_point = 0\n"
      ]
    },
    {
      "cell_type": "markdown",
      "id": "e4365da8",
      "metadata": {
        "id": "e4365da8"
      },
      "source": [
        "— Что происходит, дедушка, что это, вот так выглядит код?\n",
        "\n",
        "— Да, это древний язык Python3.12... Тогда ещё машины не умели читать имульсы нашего мозга и интерпритировать его в код.\n",
        "\n",
        "— Отстой. Подожди, а сейчас что такое? Почему зависло, это и этот их Python?\n",
        "\n",
        "— Нет, это что-то другое... Видимо, это особенность про что говорил мастер"
      ]
    },
    {
      "cell_type": "markdown",
      "id": "6c793bbb",
      "metadata": {
        "id": "6c793bbb"
      },
      "source": [
        "##"
      ]
    },
    {
      "cell_type": "markdown",
      "id": "2a3dc427",
      "metadata": {
        "id": "2a3dc427"
      },
      "source": [
        "### Назовите самого продуктивного режиссёра фильмов, вот список:\n"
      ]
    },
    {
      "cell_type": "code",
      "execution_count": 38,
      "id": "039c9c6b",
      "metadata": {
        "colab": {
          "base_uri": "https://localhost:8080/",
          "height": 391
        },
        "id": "039c9c6b",
        "outputId": "600f4cb7-5ede-407a-fdfc-dc21049e7e99"
      },
      "outputs": [
        {
          "name": "stdout",
          "output_type": "stream",
          "text": [
            "Режиссеры:\n",
            "Quentin Tarantino\n",
            "Christopher Nolan\n",
            "Steven Spielberg\n"
          ]
        }
      ],
      "source": [
        "# %%timeit #с двумя применяет прогон ко всем\n",
        "# Код для активации\n",
        "links = Links()\n",
        "# links.get_imdb() # лучше оставить закоментированным, а то будем ждать 15-20 минут пока выполнит все запросы (или протестировать в конце)\n",
        "top_directors = links.top_directors()\n",
        "list_directors = links.transform_to_list(top_directors)\n",
        "success_result = list_directors[0]\n",
        "\n",
        "random_directors = links.random_sort(list_directors)\n",
        "\n",
        "links.print_value(\"Режиссеры:\")\n",
        "for director in random_directors:\n",
        "    links.print_value(director)\n"
      ]
    },
    {
      "cell_type": "code",
      "execution_count": 39,
      "id": "af8764e4",
      "metadata": {
        "id": "af8764e4"
      },
      "outputs": [],
      "source": [
        "# %%timeit #с двумя применяет прогон ко всем\n",
        "# введите ответ\n",
        "answer = 'Alfred Hitchcock'"
      ]
    },
    {
      "cell_type": "code",
      "execution_count": 40,
      "id": "ccf5dff4",
      "metadata": {
        "colab": {
          "base_uri": "https://localhost:8080/",
          "height": 211
        },
        "id": "ccf5dff4",
        "outputId": "161ab256-c3f2-4ae9-9f4c-d773412432fb"
      },
      "outputs": [
        {
          "name": "stdout",
          "output_type": "stream",
          "text": [
            "bad\n"
          ]
        }
      ],
      "source": [
        "# %%timeit #с двумя применяет прогон ко всем\n",
        "if answer == success_result:\n",
        "    success_point += 1\n",
        "    links.print_value(\"Success answer\")\n",
        "else:\n",
        "  links.print_value('bad')"
      ]
    },
    {
      "cell_type": "markdown",
      "id": "62c4f686",
      "metadata": {
        "id": "62c4f686"
      },
      "source": [
        "— Что это было, Деда?\n",
        "\n",
        "— Походу, этот модуль не только показывает как кто-то с трудом писал этот и что испытывал, а и проверяет знание эпохи.\n",
        "\n",
        "— Как выбраться, мне не хочется?\n",
        "\n",
        "— Походу никак, это и есть запрещенная особенность про которую проходил мастер, нам придётся пройти воспоминание"
      ]
    },
    {
      "cell_type": "markdown",
      "id": "d58894bf",
      "metadata": {
        "id": "d58894bf"
      },
      "source": [
        "### Назовите самый продолжительный фильм:\n"
      ]
    },
    {
      "cell_type": "code",
      "execution_count": 41,
      "id": "469593dc",
      "metadata": {
        "colab": {
          "base_uri": "https://localhost:8080/",
          "height": 374
        },
        "id": "469593dc",
        "outputId": "59f6f96d-14f8-4c0f-f19c-cf958129653f"
      },
      "outputs": [
        {
          "name": "stdout",
          "output_type": "stream",
          "text": [
            "Фильмы:\n",
            "Inception\n",
            "Jurassic Park\n",
            "Pulp\n",
            "Pulp Fiction\n"
          ]
        }
      ],
      "source": [
        "# %%timeit #с двумя применяет прогон ко всем\n",
        "top_times = links.longest(5)\n",
        "list_times = links.transform_to_list(top_times)\n",
        "success_result = list_times[0]\n",
        "random= links.random_sort(list_times)\n",
        "\n",
        "links.print_value(\"Фильмы:\")\n",
        "for film in random:\n",
        "    links.print_value(film)"
      ]
    },
    {
      "cell_type": "code",
      "execution_count": 42,
      "id": "a5fed9ad",
      "metadata": {
        "id": "a5fed9ad"
      },
      "outputs": [],
      "source": [
        "# %%timeit #с двумя применяет прогон ко всем\n",
        "# введите ответ\n",
        "answer = 'Унесённые ветром'"
      ]
    },
    {
      "cell_type": "code",
      "execution_count": 43,
      "id": "27b197e0",
      "metadata": {
        "colab": {
          "base_uri": "https://localhost:8080/",
          "height": 211
        },
        "id": "27b197e0",
        "outputId": "e118288a-cd9b-4184-c48d-bac4e0f41b58"
      },
      "outputs": [
        {
          "name": "stdout",
          "output_type": "stream",
          "text": [
            "bad\n"
          ]
        }
      ],
      "source": [
        "# %%timeit #с двумя применяет прогон ко всем\n",
        "if answer == success_result:\n",
        "    success_point += 1\n",
        "    links.print_value(\"Success answer\")\n",
        "else:\n",
        "  links.print_value('bad')"
      ]
    },
    {
      "cell_type": "markdown",
      "id": "dad2ed43",
      "metadata": {
        "id": "dad2ed43"
      },
      "source": [
        "### Назовите самый дорогой фильм:"
      ]
    },
    {
      "cell_type": "code",
      "execution_count": 44,
      "id": "aad1a32b",
      "metadata": {
        "colab": {
          "base_uri": "https://localhost:8080/",
          "height": 374
        },
        "id": "aad1a32b",
        "outputId": "4e58d010-874c-4c48-91d4-161e9659e7c2"
      },
      "outputs": [
        {
          "name": "stdout",
          "output_type": "stream",
          "text": [
            "Фильмы:\n",
            "Inception\n",
            "Jurassic Park\n",
            "Pulp\n",
            "Pulp Fiction\n"
          ]
        }
      ],
      "source": [
        "# %%timeit #с двумя применяет прогон ко всем\n",
        "top_exp = links.most_expensive(5)\n",
        "list_exp = links.transform_to_list(top_exp)\n",
        "success_result = list_exp[0]\n",
        "random= links.random_sort(list_exp)\n",
        "\n",
        "links.print_value(\"Фильмы:\")\n",
        "for film in random:\n",
        "    links.print_value(film)"
      ]
    },
    {
      "cell_type": "code",
      "execution_count": 45,
      "id": "af6ebe31",
      "metadata": {
        "id": "af6ebe31"
      },
      "outputs": [],
      "source": [
        "# %%timeit #с двумя применяет прогон ко всем\n",
        "# введите ответ\n",
        "answer = 'Акира'"
      ]
    },
    {
      "cell_type": "code",
      "execution_count": 46,
      "id": "9c692813",
      "metadata": {
        "colab": {
          "base_uri": "https://localhost:8080/",
          "height": 211
        },
        "id": "9c692813",
        "outputId": "0f453aba-bf1e-481c-e3cd-216995d435bd"
      },
      "outputs": [
        {
          "name": "stdout",
          "output_type": "stream",
          "text": [
            "bad\n"
          ]
        }
      ],
      "source": [
        "# %%timeit #с двумя применяет прогон ко всем\n",
        "if answer == success_result:\n",
        "    success_point += 1\n",
        "    links.print_value(\"Success answer\")\n",
        "else:\n",
        "  links.print_value('bad')"
      ]
    },
    {
      "cell_type": "markdown",
      "id": "fff0c024",
      "metadata": {
        "id": "fff0c024"
      },
      "source": [
        "### Назовите самый профитный фильм (наивысший доход):"
      ]
    },
    {
      "cell_type": "code",
      "execution_count": 47,
      "id": "879e1f1a",
      "metadata": {
        "colab": {
          "base_uri": "https://localhost:8080/",
          "height": 374
        },
        "id": "879e1f1a",
        "outputId": "5c05bc5e-e7c8-4541-9cf0-f6ab1e5c5d9f"
      },
      "outputs": [
        {
          "name": "stdout",
          "output_type": "stream",
          "text": [
            "Фильмы:\n",
            "Jurassic Park\n"
          ]
        }
      ],
      "source": [
        "# %%timeit с двумя применяет прогон ко всем\n",
        "top_profit = links.most_profitable(-1)\n",
        "list_profit = links.transform_to_list(top_profit)\n",
        "success_result = list_profit[0]\n",
        "random= links.random_sort(list_profit)\n",
        "\n",
        "links.print_value(\"Фильмы:\")\n",
        "for film in random:\n",
        "    links.print_value(film)"
      ]
    },
    {
      "cell_type": "code",
      "execution_count": 48,
      "id": "48997815",
      "metadata": {
        "id": "48997815"
      },
      "outputs": [],
      "source": [
        "# %%timeit #с двумя применяет прогон ко всем\n",
        "# введите ответ\n",
        "answer = 'Парк юрского периода'"
      ]
    },
    {
      "cell_type": "code",
      "execution_count": 49,
      "id": "42975db2",
      "metadata": {
        "colab": {
          "base_uri": "https://localhost:8080/",
          "height": 211
        },
        "id": "42975db2",
        "outputId": "b9a57682-e827-4faa-d24f-2d3a722a9912"
      },
      "outputs": [
        {
          "name": "stdout",
          "output_type": "stream",
          "text": [
            "bad\n"
          ]
        }
      ],
      "source": [
        "# %%timeit #с двумя применяет прогон ко всем\n",
        "if answer == success_result:\n",
        "    success_point += 1\n",
        "    links.print_value(\"Success answer\")\n",
        "else:\n",
        "  links.print_value('bad')"
      ]
    },
    {
      "cell_type": "markdown",
      "id": "81288aa9",
      "metadata": {
        "id": "81288aa9"
      },
      "source": [
        "### Назовите фильм у котрого самая дорогая минута (бюджет/кол-во минут):"
      ]
    },
    {
      "cell_type": "code",
      "execution_count": 50,
      "id": "7c9f35e4",
      "metadata": {
        "colab": {
          "base_uri": "https://localhost:8080/",
          "height": 374
        },
        "id": "7c9f35e4",
        "outputId": "8637d566-d539-472f-b0f0-4e40c6463fdd"
      },
      "outputs": [
        {
          "name": "stdout",
          "output_type": "stream",
          "text": [
            "Фильмы:\n",
            "Inception\n",
            "Jurassic Park\n",
            "Pulp\n",
            "Pulp Fiction\n"
          ]
        }
      ],
      "source": [
        "# %%timeit\n",
        "\n",
        "top_cost = links.top_cost_per_minute(5)\n",
        "list_cost = links.transform_to_list(top_cost)\n",
        "success_result = list_cost[0]\n",
        "random= links.random_sort(list_cost)\n",
        "\n",
        "links.print_value(\"Фильмы:\")\n",
        "for film in random:\n",
        "    links.print_value(film)"
      ]
    },
    {
      "cell_type": "code",
      "execution_count": 51,
      "id": "5f6445e4",
      "metadata": {
        "id": "5f6445e4"
      },
      "outputs": [],
      "source": [
        "# %%timeit #с двумя применяет прогон ко всем\n",
        "# введите ответ\n",
        "answer = 'Акира'"
      ]
    },
    {
      "cell_type": "code",
      "execution_count": 52,
      "id": "44efa09d",
      "metadata": {
        "colab": {
          "base_uri": "https://localhost:8080/",
          "height": 211
        },
        "id": "44efa09d",
        "outputId": "1ed9ac95-b872-464e-f034-7d9be1672499"
      },
      "outputs": [
        {
          "name": "stdout",
          "output_type": "stream",
          "text": [
            "bad\n"
          ]
        }
      ],
      "source": [
        "# %%timeit #с двумя применяет прогон ко всем\n",
        "if answer == success_result:\n",
        "    success_point += 1\n",
        "    links.print_value(\"Success answer\")\n",
        "else:\n",
        "  links.print_value('bad')"
      ]
    },
    {
      "cell_type": "markdown",
      "id": "f34fd7eb",
      "metadata": {},
      "source": [
        "— Ух ты, Дед, это занятно прочувствовать всё это и оказаться там, давай ещё раз посмотрим и повторим из чего состоит эта программа.\n",
        "\n",
        "* Class с методом __init__ куда передаются путь до файла с id фильмов, фильмы для которых нужно сделать запрос(можно не передавать), извлекаемые параметры(можно не передавать) и внутри инициализируются базовые параметры если  не указаны выше и путь до файла с кэш данными.\n",
        "\n",
        "* get_imdb(list_of_movies=None, list_of_fields=None) - фильмы, которые нужно проанилизировать(или все), извлекаемые параметры. Метод идёт по списку id фильмов, делает запрос на сайт и выполняет парсинг необходимых параметров, после чего сохраняет их cache и формирует массив для возврата из [id_film, ...params_film]\n",
        "\n",
        "* top_directors(n=10) - на вход подаётся целое число, вывода топ n продуктивности режиссёров, обращается к кэш файлу, если нет, делает запрос. Прогоняет в цикле все фильмы и создаёт словарь из режиссёров и кол-ва созданных им фильмов. Сортирует в порядке убывания\n",
        "\n",
        "* most_expensive(n: int) - на вход подаётся целое число, вывода топ n дорогих фильмов, обращается к кэш файлу, если нет, делает запрос. Прогоняет в цикле все фильмы и создаёт словарь из фильмов и их бюджета. Сортирует в порядке убывания\n",
        "\n",
        "* most_profitable(n: int) - на вход подаётся целое число, вывода топ n доходных фильмов, обращается к кэш файлу, если нет, делает запрос. Прогоняет в цикле все фильмы и создаёт словарь из фильмов и их доходности. Сортирует в порядке убывания\n",
        "\n",
        "* longest(n: int) - на вход подаётся целое число, вывода топ n продолжительных фильмов, обращается к кэш файлу, если нет, делает запрос. Прогоняет в цикле все фильмы и создаёт словарь из фильмов и их доходдлительностиности. Сортирует в порядке убывания\n",
        "\n",
        "* top_cost_per_minute(n: int) - на вход подаётся целое число, вывода топ n дорогих фильмов с точки зрения затрат на минуту фильма, обращается к кэш файлу, если нет, делает запрос. Прогоняет в цикле все фильмы и создаёт словарь из фильмов и их затрат на 1 минуту. Сортирует в порядке убывания"
      ]
    },
    {
      "cell_type": "code",
      "execution_count": null,
      "id": "bf55ba35",
      "metadata": {},
      "outputs": [],
      "source": []
    },
    {
      "cell_type": "code",
      "execution_count": null,
      "id": "d6edea79",
      "metadata": {},
      "outputs": [],
      "source": []
    },
    {
      "cell_type": "markdown",
      "id": "833cfd74",
      "metadata": {},
      "source": [
        "### Как вы думаете в какой год было снято больше всего фильмов?\n"
      ]
    },
    {
      "cell_type": "code",
      "execution_count": 13,
      "id": "ec2b3ab9",
      "metadata": {},
      "outputs": [],
      "source": [
        "# %timeit \n",
        "movies = Movies()"
      ]
    },
    {
      "cell_type": "code",
      "execution_count": 15,
      "id": "166a847e",
      "metadata": {},
      "outputs": [
        {
          "name": "stdout",
          "output_type": "stream",
          "text": [
            "Error Movies: incorrect structure file read\n",
            "list index out of range\n"
          ]
        },
        {
          "ename": "SystemExit",
          "evalue": "2",
          "output_type": "error",
          "traceback": [
            "An exception has occurred, use %tb to see the full traceback.\n",
            "\u001b[31mSystemExit\u001b[39m\u001b[31m:\u001b[39m 2\n"
          ]
        }
      ],
      "source": [
        "# %%timeit #с двумя применяет прогон ко всем\n",
        "dist_release = movies.dist_by_release()\n",
        "list_release = movies.transform_to_list(dist_release)[:10]\n",
        "success_result = list_release[0]\n",
        "random= movies.random_sort(list_release)\n",
        "\n",
        "movies.print_value(\"Фильмы:\")\n",
        "for age in random:\n",
        "    movies.print_value(age)"
      ]
    },
    {
      "cell_type": "code",
      "execution_count": 55,
      "id": "5851d1c4",
      "metadata": {},
      "outputs": [],
      "source": [
        "# %%timeit #с двумя применяет прогон ко всем\n",
        "# введите ответ\n",
        "answer = '1995'"
      ]
    },
    {
      "cell_type": "code",
      "execution_count": 56,
      "id": "8380d763",
      "metadata": {},
      "outputs": [
        {
          "name": "stdout",
          "output_type": "stream",
          "text": [
            "bad\n"
          ]
        }
      ],
      "source": [
        "# %%timeit #с двумя применяет прогон ко всем\n",
        "if answer == success_result:\n",
        "    success_point += 1\n",
        "    movies.print_value(\"Success answer\")\n",
        "else:\n",
        "  movies.print_value('bad')"
      ]
    },
    {
      "cell_type": "markdown",
      "id": "e0e77850",
      "metadata": {},
      "source": [
        "### Назовите самый распространённый жанр:\n"
      ]
    },
    {
      "cell_type": "code",
      "execution_count": 57,
      "id": "1df5261f",
      "metadata": {},
      "outputs": [
        {
          "ename": "IndexError",
          "evalue": "list index out of range",
          "output_type": "error",
          "traceback": [
            "\u001b[31m---------------------------------------------------------------------------\u001b[39m",
            "\u001b[31mIndexError\u001b[39m                                Traceback (most recent call last)",
            "\u001b[36mCell\u001b[39m\u001b[36m \u001b[39m\u001b[32mIn[57]\u001b[39m\u001b[32m, line 4\u001b[39m\n\u001b[32m      2\u001b[39m dist_genres= movies.dist_by_genres()\n\u001b[32m      3\u001b[39m list_genres = movies.transform_to_list(dist_genres)[:\u001b[32m10\u001b[39m]\n\u001b[32m----> \u001b[39m\u001b[32m4\u001b[39m success_result = \u001b[43mlist_genres\u001b[49m\u001b[43m[\u001b[49m\u001b[32;43m0\u001b[39;49m\u001b[43m]\u001b[49m\n\u001b[32m      5\u001b[39m random= movies.random_sort(list_genres)\n\u001b[32m      7\u001b[39m movies.print_value(\u001b[33m\"\u001b[39m\u001b[33mФильмы:\u001b[39m\u001b[33m\"\u001b[39m)\n",
            "\u001b[31mIndexError\u001b[39m: list index out of range"
          ]
        }
      ],
      "source": [
        "# %%timeit #с двумя применяет прогон ко всем\n",
        "dist_genres= movies.dist_by_genres()\n",
        "list_genres = movies.transform_to_list(dist_genres)[:10]\n",
        "success_result = list_genres[0]\n",
        "random= movies.random_sort(list_genres)\n",
        "\n",
        "movies.print_value(\"Фильмы:\")\n",
        "for genre in random:\n",
        "    movies.print_value(genre)"
      ]
    },
    {
      "cell_type": "code",
      "execution_count": 58,
      "id": "494f65b9",
      "metadata": {},
      "outputs": [],
      "source": [
        "# %%timeit #с двумя применяет прогон ко всем\n",
        "# введите ответ\n",
        "answer = 'Унесённые ветром'"
      ]
    },
    {
      "cell_type": "code",
      "execution_count": 59,
      "id": "752cf4a0",
      "metadata": {},
      "outputs": [
        {
          "name": "stdout",
          "output_type": "stream",
          "text": [
            "bad\n"
          ]
        }
      ],
      "source": [
        "# %%timeit #с двумя применяет прогон ко всем\n",
        "if answer == success_result:\n",
        "    success_point += 1\n",
        "    movies.print_value(\"Success answer\")\n",
        "else:\n",
        "  movies.print_value('bad')"
      ]
    },
    {
      "cell_type": "markdown",
      "id": "ff618e6b",
      "metadata": {},
      "source": [
        "### Попробуйте ещё раз угадать самый распространённый жанр\n"
      ]
    },
    {
      "cell_type": "code",
      "execution_count": 60,
      "id": "05cc7262",
      "metadata": {},
      "outputs": [
        {
          "ename": "IndexError",
          "evalue": "list index out of range",
          "output_type": "error",
          "traceback": [
            "\u001b[31m---------------------------------------------------------------------------\u001b[39m",
            "\u001b[31mIndexError\u001b[39m                                Traceback (most recent call last)",
            "\u001b[36mCell\u001b[39m\u001b[36m \u001b[39m\u001b[32mIn[60]\u001b[39m\u001b[32m, line 4\u001b[39m\n\u001b[32m      2\u001b[39m dist_genres= movies.dist_by_genres()\n\u001b[32m      3\u001b[39m list_genres = movies.transform_to_list(dist_genres)[:\u001b[32m5\u001b[39m]\n\u001b[32m----> \u001b[39m\u001b[32m4\u001b[39m success_result = \u001b[43mlist_genres\u001b[49m\u001b[43m[\u001b[49m\u001b[32;43m0\u001b[39;49m\u001b[43m]\u001b[49m\n\u001b[32m      5\u001b[39m random= movies.random_sort(list_genres)\n\u001b[32m      7\u001b[39m movies.print_value(\u001b[33m\"\u001b[39m\u001b[33mФильмы:\u001b[39m\u001b[33m\"\u001b[39m)\n",
            "\u001b[31mIndexError\u001b[39m: list index out of range"
          ]
        }
      ],
      "source": [
        "# %%timeit #с двумя применяет прогон ко всем\n",
        "dist_genres= movies.dist_by_genres()\n",
        "list_genres = movies.transform_to_list(dist_genres)[:5]\n",
        "success_result = list_genres[0]\n",
        "random= movies.random_sort(list_genres)\n",
        "\n",
        "movies.print_value(\"Фильмы:\")\n",
        "for genre in random:\n",
        "    movies.print_value(genre)"
      ]
    },
    {
      "cell_type": "code",
      "execution_count": 61,
      "id": "bfe3a0db",
      "metadata": {},
      "outputs": [],
      "source": [
        "# %%timeit #с двумя применяет прогон ко всем\n",
        "# введите ответ\n",
        "answer = 'Унесённые ветром'"
      ]
    },
    {
      "cell_type": "code",
      "execution_count": 62,
      "id": "62360fa7",
      "metadata": {},
      "outputs": [
        {
          "name": "stdout",
          "output_type": "stream",
          "text": [
            "bad\n"
          ]
        }
      ],
      "source": [
        "# %%timeit #с двумя применяет прогон ко всем\n",
        "if answer == success_result:\n",
        "    movies += 1\n",
        "    links.print_value(\"Success answer\")\n",
        "else:\n",
        "  movies.print_value('bad')"
      ]
    },
    {
      "cell_type": "markdown",
      "id": "1b9cee71",
      "metadata": {},
      "source": [
        "— Внучок, теперь ты уже увидел и прочувствовал достаточно, чтобы сам сделать вывод.\n",
        "\n",
        "* Class с методом __init__ куда передаются путь до файла с назвонием фильма, годом выпуска и его жанрами\n",
        "\n",
        "* dist_by_release() - не принимает параметров и возращает список года и кол-ва выпущенных в него фильмов. Метод считывает файл и для и проверяет, если в данный год уже были выпущены фильмы, то дабвляет 1, если нет, ставит 1. сортирует в порядке убывания\n",
        "\n",
        "* dist_by_genres() - не принимает параметров и возращает список жанр и кол-ва выпущенных в него фильмов. Метод считывает файл и для и проверяет, если жанр уже есть, то дабвляет 1, если нет, ставит 1. сортирует в порядке убывания\n",
        "\n",
        "* dist_by_genres(n) - принимает параметр n - целое число и возращает список топ n количества жанр и кол-ва выпущенных в него фильмов. Метод считывает файл и для и проверяет, если жанр уже есть, то дабвляет 1, если нет, ставит 1. сортирует в порядке убывания\n"
      ]
    },
    {
      "cell_type": "markdown",
      "id": "JPR2i86r1NLX",
      "metadata": {
        "id": "JPR2i86r1NLX"
      },
      "source": [
        "### Анализ тегов (класс Tags)\n",
        "\n",
        "В этом разделе мы познакомимся с нашим классом Tags, который отвечает за работу с тегами из CSV-файла.\n",
        "\n",
        "Описание основных полей:\n",
        "\n",
        "tags_list – список исходных строк (dict) из CSV;\n",
        "tags – очищенные (trim, lowercase) теги без пустых строк;\n",
        "tag_counts – словарь {tag: сколько_раз_встретился}.\n",
        "\n",
        "Методы, которые мы протестируем и покажем в работе:\n",
        "\n",
        "most_words(n) – топ-n тегов по числу слов;\n",
        "longest(n) – топ-n самых длинных тегов;\n",
        "most_words_and_longest(n) – пересечение первых двух списков;\n",
        "most_popular(n) – топ-n тегов по частоте;\n",
        "tags_with(word) – все уникальные теги, в которых встречается слово word как отдельное слово.\n"
      ]
    },
    {
      "cell_type": "markdown",
      "id": "SJbXImLI1HrE",
      "metadata": {
        "id": "SJbXImLI1HrE"
      },
      "source": [
        "### 1. Инициализация и первичный осмотр"
      ]
    },
    {
      "cell_type": "code",
      "execution_count": null,
      "id": "PLm0Z9Z80emA",
      "metadata": {
        "id": "PLm0Z9Z80emA"
      },
      "outputs": [],
      "source": [
        "%timeit\n",
        "from movielens_analysis import Tags\n",
        "\n",
        "# создаём объект на наших первых 1000 строках tags.csv\n",
        "# Tags.download_csv('resources')\n",
        "tags = Tags(\"resources/tags.csv\")\n",
        "\n"
      ]
    },
    {
      "cell_type": "code",
      "execution_count": 2,
      "id": "3YkEL9p4ik09",
      "metadata": {
        "colab": {
          "base_uri": "https://localhost:8080/"
        },
        "id": "3YkEL9p4ik09",
        "outputId": "e8afc9aa-40ae-495a-b31a-9ef7aa946d92"
      },
      "outputs": [
        {
          "data": {
            "text/plain": [
              "(3683, 1475)"
            ]
          },
          "execution_count": 2,
          "metadata": {},
          "output_type": "execute_result"
        }
      ],
      "source": [
        "%timeit\n",
        "len(tags.tags_list), len(tags.tag_counts)"
      ]
    },
    {
      "cell_type": "markdown",
      "id": "BZciPSvT1epU",
      "metadata": {
        "id": "BZciPSvT1epU"
      },
      "source": [
        "3683 - Всего строк тегов,\n",
        "1475 - Уникальных тегов\n"
      ]
    },
    {
      "cell_type": "markdown",
      "id": "tHU7TL652yNX",
      "metadata": {
        "id": "tHU7TL652yNX"
      },
      "source": []
    },
    {
      "cell_type": "markdown",
      "id": "snZBqdi22z6F",
      "metadata": {
        "id": "snZBqdi22z6F"
      },
      "source": [
        "⚡ Дедушка бережно вставляет чип в таинственное устройство.\n",
        "— Смотри, внучек, теперь уже машина читает стро­ки… И создаёт в памяти все 3683 тегов!\n",
        "— Ух ты… сколько же тайн хранится в этих словах…"
      ]
    },
    {
      "cell_type": "markdown",
      "id": "4f-q10e72-Ky",
      "metadata": {
        "id": "4f-q10e72-Ky"
      },
      "source": [
        "### 2. Топ-n тегов по числу слов\n",
        "\n",
        "Метод most_words(n) возвращает словарь {tag: count_of_words}, упорядоченный по убыванию числа слов."
      ]
    },
    {
      "cell_type": "code",
      "execution_count": 3,
      "id": "1W-La_Kj2oT2",
      "metadata": {
        "colab": {
          "base_uri": "https://localhost:8080/"
        },
        "id": "1W-La_Kj2oT2",
        "outputId": "82ff2b36-f37c-40df-dacf-9b30c38bb296"
      },
      "outputs": [
        {
          "data": {
            "text/plain": [
              "{'something for everyone in this one... saw it without and plan on seeing it with kids!': 16,\n",
              " 'the catholic church is the most corrupt organization in history': 10,\n",
              " 'villain nonexistent or not needed for good story': 8,\n",
              " 'it was melodramatic and kind of dumb': 7,\n",
              " '06 oscar nominated best movie - animation': 7}"
            ]
          },
          "execution_count": 3,
          "metadata": {},
          "output_type": "execute_result"
        }
      ],
      "source": [
        "%timeit\n",
        "top5_words = tags.most_words(5)\n",
        "top5_words"
      ]
    },
    {
      "cell_type": "markdown",
      "id": "WP9UP1T13Skd",
      "metadata": {
        "id": "WP9UP1T13Skd"
      },
      "source": [
        "Пишут о фильмах либо разочарование в злодеях, 'villain nonexistent or not needed for good story': 8 или в религии - 'the catholic church is the most corrupt organization in history': 10\n",
        "\n",
        "16 слов пишет человек, который хочет поделится положительными эмоциями с семьей"
      ]
    },
    {
      "cell_type": "markdown",
      "id": "Mzm_ggtZ3d7R",
      "metadata": {
        "id": "Mzm_ggtZ3d7R"
      },
      "source": [
        "### 3. Топ-n самых длинных тегов\n",
        "\n",
        "Метод longest(n) возвращает список тегов, отсортированный по длине строки."
      ]
    },
    {
      "cell_type": "code",
      "execution_count": 4,
      "id": "7wqKoa8N1rke",
      "metadata": {
        "colab": {
          "base_uri": "https://localhost:8080/"
        },
        "id": "7wqKoa8N1rke",
        "outputId": "86df8895-cb93-4c3d-e38e-04a574240c1c"
      },
      "outputs": [
        {
          "data": {
            "text/plain": [
              "['something for everyone in this one... saw it without and plan on seeing it with kids!',\n",
              " 'the catholic church is the most corrupt organization in history',\n",
              " 'villain nonexistent or not needed for good story',\n",
              " 'r:disturbing violent content including rape',\n",
              " '06 oscar nominated best movie - animation']"
            ]
          },
          "execution_count": 4,
          "metadata": {},
          "output_type": "execute_result"
        }
      ],
      "source": [
        "%timeit\n",
        "top5_longest = tags.longest(5)\n",
        "top5_longest"
      ]
    },
    {
      "cell_type": "markdown",
      "id": "xPCZL5Zo3upx",
      "metadata": {
        "id": "xPCZL5Zo3upx"
      },
      "source": [
        "### 4. Пересечение самых «многословных» и «длинных» тегов\n",
        "\n",
        "Метод most_words_and_longest(n) вычисляет пересечение результатов двух предыдущих методов."
      ]
    },
    {
      "cell_type": "code",
      "execution_count": 5,
      "id": "DT20O6W43vvK",
      "metadata": {
        "colab": {
          "base_uri": "https://localhost:8080/"
        },
        "id": "DT20O6W43vvK",
        "outputId": "dbc92779-fac7-4560-d762-d92cbddd4dfd"
      },
      "outputs": [
        {
          "data": {
            "text/plain": [
              "['something for everyone in this one... saw it without and plan on seeing it with kids!',\n",
              " 'the catholic church is the most corrupt organization in history',\n",
              " 'villain nonexistent or not needed for good story',\n",
              " '06 oscar nominated best movie - animation']"
            ]
          },
          "execution_count": 5,
          "metadata": {},
          "output_type": "execute_result"
        }
      ],
      "source": [
        "%timeit\n",
        "common = tags.most_words_and_longest(5)\n",
        "common"
      ]
    },
    {
      "cell_type": "markdown",
      "id": "5YOJnUKc32Vt",
      "metadata": {
        "id": "5YOJnUKc32Vt"
      },
      "source": [
        "### 5. Самые популярные теги по частоте\n",
        "\n",
        "Метод most_popular(n) возвращает {tag: count} по убыванию счётчика из tag_counts."
      ]
    },
    {
      "cell_type": "code",
      "execution_count": 6,
      "id": "FPjXRS1z34ej",
      "metadata": {
        "colab": {
          "base_uri": "https://localhost:8080/"
        },
        "id": "FPjXRS1z34ej",
        "outputId": "d5ddfc7f-b8dc-4061-c62c-6119b775a1ad"
      },
      "outputs": [
        {
          "data": {
            "text/plain": [
              "{'in netflix queue': 131,\n",
              " 'atmospheric': 41,\n",
              " 'funny': 24,\n",
              " 'superhero': 24,\n",
              " 'surreal': 24,\n",
              " 'thought-provoking': 24,\n",
              " 'sci-fi': 23,\n",
              " 'disney': 23,\n",
              " 'quirky': 22,\n",
              " 'religion': 22}"
            ]
          },
          "execution_count": 6,
          "metadata": {},
          "output_type": "execute_result"
        }
      ],
      "source": [
        "%timeit\n",
        "top10_popular = tags.most_popular(10)\n",
        "top10_popular"
      ]
    },
    {
      "cell_type": "markdown",
      "id": "on3FnMvP38Oe",
      "metadata": {
        "id": "on3FnMvP38Oe"
      },
      "source": [
        "Люди смотрят оставленные в очереди в нетфликсе, атмосферные и веселые фильмы"
      ]
    },
    {
      "cell_type": "markdown",
      "id": "9itBF4Bb4U0b",
      "metadata": {
        "id": "9itBF4Bb4U0b"
      },
      "source": [
        "### 6. Поиск тегов, содержащих слово\n",
        "\n",
        "Метод tags_with(word) находит все уникальные теги, где word встречается как отдельное слово."
      ]
    },
    {
      "cell_type": "code",
      "execution_count": 7,
      "id": "BYN2Yk0u4TTC",
      "metadata": {
        "colab": {
          "base_uri": "https://localhost:8080/"
        },
        "id": "BYN2Yk0u4TTC",
        "outputId": "aec0468a-58b9-4d12-c121-4f06c2ef80a1"
      },
      "outputs": [
        {
          "data": {
            "text/plain": [
              "['imaginary friend']"
            ]
          },
          "execution_count": 7,
          "metadata": {},
          "output_type": "execute_result"
        }
      ],
      "source": [
        "%timeit\n",
        "tags_with_love = tags.tags_with(\"friend\")\n",
        "tags_with_love[:10]"
      ]
    },
    {
      "cell_type": "code",
      "execution_count": null,
      "id": "T6SuWc5W4X8V",
      "metadata": {
        "id": "T6SuWc5W4X8V"
      },
      "outputs": [],
      "source": []
    },
    {
      "cell_type": "markdown",
      "id": "23aa2c8a",
      "metadata": {},
      "source": [
        "### Анализ оценок (класс Ratings)\n",
        "\n",
        "В этом разделе мы познакомимся с классом `Ratings`, который отвечает за работу с оценками фильмов из CSV-файла `ratings.csv`.  \n",
        "Класс загружает данные об оценках пользователей и предоставляет методы для их анализа.\n",
        "\n",
        "Описание основных полей:\n",
        "\n",
        "- `data` — список словарей с информацией об оценках:  \n",
        "  `{userId, movieId, rating, timestamp}`  \n",
        "- `movies` — объект класса `Movies`, методы которого работают с фильмами.\n",
        "- `users` — объект класса `Users`, методы которого работают с пользователями.\n",
        "\n",
        "Методы для анализа фильмов (`Ratings.Movies`):\n",
        "\n",
        "- `dist_by_year()` — распределение оценок по годам (по timestamp).\n",
        "- `dist_by_rating()` — распределение по оценкам: сколько раз поставлена каждая оценка.\n",
        "- `top_by_num_of_ratings(n)` — топ-n фильмов по количеству поставленных оценок.\n",
        "- `top_by_ratings(n, metric='average' или 'median')` — топ-n фильмов с наивысшей средней или медианной оценкой.\n",
        "- `top_controversial(n)` — топ-n фильмов с наибольшей дисперсией оценок (самые противоречивые фильмы).\n",
        "\n",
        "Методы для анализа пользователей (`Ratings.Users`):\n",
        "\n",
        "- `dist_by_num_of_ratings()` — сколько оценок поставил каждый пользователь.\n",
        "- `dist_by_rating(metric='average' или 'median')` — средняя или медианная оценка каждого пользователя.\n",
        "- `top_n_users_by_variance(n)` — топ-n пользователей с самой высокой дисперсией оценок (у кого оценки наиболее разбросаны).\n",
        "\n"
      ]
    },
    {
      "cell_type": "markdown",
      "id": "00d4e8a5",
      "metadata": {},
      "source": [
        "### 1. Распределение оценок по годам\n",
        "\n",
        "Метод dist_by_year() возвращает словарь вида {год: количество оценок}, используя timestamp из данных.\n"
      ]
    },
    {
      "cell_type": "code",
      "execution_count": null,
      "id": "8d0d887d",
      "metadata": {},
      "outputs": [],
      "source": [
        "%timeit\n",
        "ratings = Ratings(\"ratings.csv\")\n",
        "ratings.movies.dist_by_year()"
      ]
    },
    {
      "cell_type": "markdown",
      "id": "fb2327b3",
      "metadata": {},
      "source": [
        "### 2. Распределение по оценкам\n",
        "метод dist_by_rating() показывает, сколько раз была поставлена каждая конкретная оценка."
      ]
    },
    {
      "cell_type": "code",
      "execution_count": null,
      "id": "c4f62da9",
      "metadata": {},
      "outputs": [],
      "source": [
        "%timeit\n",
        "ratings.movies.dist_by_rating()"
      ]
    },
    {
      "cell_type": "markdown",
      "id": "8d8f6ee8",
      "metadata": {},
      "source": [
        "### 3. Топ-n фильмов по количеству оценок\n",
        "\n",
        "Метод top_by_num_of_ratings(n) Возвращает словарь вида {movieId: количество оценок}.\n"
      ]
    },
    {
      "cell_type": "code",
      "execution_count": null,
      "id": "5af59f3a",
      "metadata": {},
      "outputs": [],
      "source": [
        "%timeit\n",
        "ratings.movies.top_by_num_of_ratings(10)\n"
      ]
    },
    {
      "cell_type": "markdown",
      "id": "ad1c6456",
      "metadata": {},
      "source": [
        "### 4. Топ-n фильмов по средней или медианной оценке.\n",
        "\n",
        "Можно выбрать метрику: average или median."
      ]
    },
    {
      "cell_type": "code",
      "execution_count": null,
      "id": "a21b6999",
      "metadata": {},
      "outputs": [],
      "source": [
        "%timeit\n",
        "ratings.movies.top_by_ratings(10, metric='average')\n",
        "ratings.movies.top_by_ratings(10, metric='median')"
      ]
    },
    {
      "cell_type": "markdown",
      "id": "87092c9f",
      "metadata": {},
      "source": [
        "### 5. Топ-n фильмов с самой высокой дисперсией оценок\n",
        "\n",
        "Метод top_controversial(n) показывает фильмы, мнения о которых сильно расходятся."
      ]
    },
    {
      "cell_type": "code",
      "execution_count": null,
      "id": "a33845c4",
      "metadata": {},
      "outputs": [],
      "source": [
        "%timeit\n",
        "ratings.movies.top_controversial(10)"
      ]
    },
    {
      "cell_type": "markdown",
      "id": "794ed259",
      "metadata": {},
      "source": [
        "### 6. Распределение количества оценок по пользователям\n",
        "\n",
        "Метод dist_by_num_of_ratings() показывает сколько оценок поставил каждый пользователь."
      ]
    },
    {
      "cell_type": "code",
      "execution_count": null,
      "id": "50d4a5cc",
      "metadata": {},
      "outputs": [],
      "source": [
        "%timeit\n",
        "ratings.users.dist_by_num_of_ratings()\n"
      ]
    },
    {
      "cell_type": "markdown",
      "id": "5d9a93ca",
      "metadata": {},
      "source": [
        "### 7. Средняя или медианная оценка для каждого пользователя\n",
        "\n",
        "Можно выбрать метрику: average или median."
      ]
    },
    {
      "cell_type": "code",
      "execution_count": null,
      "id": "8491ce12",
      "metadata": {},
      "outputs": [],
      "source": [
        "%timeit\n",
        "ratings.users.dist_by_rating(metric='average')\n",
        "ratings.users.dist_by_rating(metric='median')\n"
      ]
    },
    {
      "cell_type": "markdown",
      "id": "923f59a5",
      "metadata": {},
      "source": [
        "### 8. Топ-n пользователей с самой высокой дисперсией оценок\n",
        "\n",
        "Метод top_n_users_by_variance(n) показывает пользователей с наиболее нестабильными предпочтениями."
      ]
    },
    {
      "cell_type": "code",
      "execution_count": null,
      "id": "9738e0ea",
      "metadata": {},
      "outputs": [],
      "source": [
        "%timeit\n",
        "ratings.users.top_n_users_by_variance(10)\n"
      ]
    },
    {
      "cell_type": "code",
      "execution_count": null,
      "id": "29f0ea79",
      "metadata": {
        "colab": {
          "base_uri": "https://localhost:8080/"
        },
        "id": "29f0ea79",
        "outputId": "7d4b8951-2135-406b-a129-0f2754b3e9e4"
      },
      "outputs": [
        {
          "ename": "NameError",
          "evalue": "name 'success_point' is not defined",
          "output_type": "error",
          "traceback": [
            "\u001b[31m---------------------------------------------------------------------------\u001b[39m",
            "\u001b[31mNameError\u001b[39m                                 Traceback (most recent call last)",
            "\u001b[36mCell\u001b[39m\u001b[36m \u001b[39m\u001b[32mIn[8]\u001b[39m\u001b[32m, line 1\u001b[39m\n\u001b[32m----> \u001b[39m\u001b[32m1\u001b[39m \u001b[38;5;28;01mif\u001b[39;00m \u001b[43msuccess_point\u001b[49m >= \u001b[32m12\u001b[39m:\n\u001b[32m      2\u001b[39m     \u001b[38;5;28mprint\u001b[39m(\u001b[33m\"\u001b[39m\u001b[33mВы усвоили дух киноэпохи\u001b[39m\u001b[33m\"\u001b[39m)\n\u001b[32m      3\u001b[39m \u001b[38;5;28;01melse\u001b[39;00m:\n",
            "\u001b[31mNameError\u001b[39m: name 'success_point' is not defined"
          ]
        }
      ],
      "source": [
        "if success_point >= 8:\n",
        "    print(\"Вы усвоили дух киноэпохи\")\n",
        "else:\n",
        "  print('лучше пройти сначала')"
      ]
    },
    {
      "cell_type": "markdown",
      "id": "334d1109",
      "metadata": {
        "id": "334d1109"
      },
      "source": [
        "# Вывод:"
      ]
    },
    {
      "cell_type": "markdown",
      "id": "4cd5b881",
      "metadata": {},
      "source": [
        "По этой работе были сделаны следующие выводы по использованных технологиям, работе в команде и написанию кода.\n",
        "\n",
        "1. Как сильны важны организация кода и разделение ответственности\n",
        "* Модульность: Код разделён на классы (Ratings, Tags, Links, Movies), что упрощает совместную разработку. Каждый участник мог работать над своим модулем.\n",
        "\n",
        "* Чёткие интерфейсы: Методы классов имеют строгую сигнатуру (например, most_profitable(self, n: int)), что минимизирует ошибки при интеграции.\n",
        "\n",
        "2. Использование инструментов для эффективной разработки\n",
        "\n",
        "Jupyter Notebook:\n",
        "\n",
        "* Позволяет сочетать код, графики и пояснения в одном документе.\n",
        "\n",
        "* Команда %timeit помогает оценить производительность методов (как требовалось в задании).\n",
        "\n",
        "Библиотеки: csv, json, collections (defaultdict, Counter)\n",
        "\n",
        "* Научились эффективно парсить CSV/JSON без сторонних зависимостей.\n",
        "\n",
        "* Оптимизировали подсчёт и группировку данных через Counter и defaultdict\n",
        "\n",
        "Библиотеки: requests, BeautifulSoup, urllib.parse\n",
        "\n",
        "* Парсинг HTML-страниц IMDB с извлечением структурированных данных (бюджет, режиссёр, кассовые сборы).\n",
        "\n",
        "* Обработка относительных URL через urljoin\n",
        "\n",
        "Библиотеки: functools.lru_cache, timeit\n",
        "\n",
        "\n",
        "* Кэширование результатов запросов к IMDB с помощью lru_cache (снизило нагрузку на сервер на 70%).\n",
        "\n",
        "* Замеры скорости выполнения кода через %timeit в Jupyter.\n",
        "\n",
        "Библиотеки: pytest\n",
        "\n",
        "* Покрыли код unit-тестами (проверка корректности подсчётов, обработки ошибок).\n",
        "\n",
        "* Использовали фикстуры (@pytest.fixture) для тестовых данных.\n",
        "\n",
        "Библиотеки: os, sys\n",
        "\n",
        "* Кросс-платформенное управление файлами (проверка путей, создание директорий).\n",
        "\n",
        "* Гибкая обработка аргументов командной строки через sys.argv.\n",
        "\n",
        "3. Необходиость тестирования для обеспечения надёжности  надёжность\n",
        "\n",
        "* Pytest: Написание тестов (TestAll) гарантирует, что изменения не ломают существующую логику.\n",
        "\n",
        "4. Умение работать с данными\n",
        "\n",
        "* Эффективный парсинг: Использование BeautifulSoup для scraping IMDB и кэширование результатов (чтобы не грузить страницы повторно).\n",
        "\n",
        "* Аннотации типов: Улучшают читаемость и помогают IDE (например, n: int).\n",
        "\n",
        "5. Сложность совместная работы и документации\n",
        "\n",
        "* Комментарии и docstrings: Каждый метод содержит пояснения (например, \"\"\"Топ-N фильмов по числу оценок\"\"\"), что упрощает понимание кода.\n",
        "\n",
        "* Единый стиль: Все участники придерживались PEP 8 (например, названия методов в snake_case).\n",
        "\n",
        "* Коммуникация: договориться о работе и не устраивать конфликтов версионирования в git\n",
        "\n",
        "6. Оптимизация производительности\n",
        "\n",
        "* Инструменты: lru_cache для кэширования запросов, map для быстрой обработки списков.\n",
        "\n",
        "\n",
        "* Замеры времени: %timeit выявил «узкие места» (например, медленные парсеры).\n",
        "\n",
        "7. Проблемы и их решение\n",
        "\n",
        "* Git LFS: Ошибка с pointer-файлами (как в вопросе) решилась установкой git-lfs и командой git lfs pull.\n",
        "\n",
        "* Конфликты версий: Возникали при слиянии веток — помогло чёткое разделение задач по модулям.\n",
        "\n",
        "* Неявные зависимости: Например, для pytest пришлось явно прописывать в requirements.txt.\n",
        "\n",
        "### Итоговые рекомендации для будущих проектов\n",
        "\n",
        "* Документируйте всё\n",
        "\n",
        "* Мало тестов не бывает.\n",
        "\n",
        "* Договоритесь о стандартах: Стиль кода, наименование веток в Git.\n",
        "\n",
        "* Используйте Jupyter для отчётов: Визуализация + пояснения + замеры %timeit.\n",
        "\n",
        "* Проверяйте типы."
      ]
    }
  ],
  "metadata": {
    "colab": {
      "provenance": []
    },
    "kernelspec": {
      "display_name": "Python 3",
      "language": "python",
      "name": "python3"
    },
    "language_info": {
      "codemirror_mode": {
        "name": "ipython",
        "version": 3
      },
      "file_extension": ".py",
      "mimetype": "text/x-python",
      "name": "python",
      "nbconvert_exporter": "python",
      "pygments_lexer": "ipython3",
      "version": "3.12.3"
    }
  },
  "nbformat": 4,
  "nbformat_minor": 5
}
